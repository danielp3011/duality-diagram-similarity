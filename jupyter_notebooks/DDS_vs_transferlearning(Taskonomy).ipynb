{
 "cells": [
  {
   "cell_type": "code",
   "execution_count": 1,
   "metadata": {},
   "outputs": [],
   "source": [
    "import numpy as np\n",
    "import os\n",
    "import pickle\n",
    "from plotting_utils import heatmap,annotate_heatmap\n",
    "\n",
    "image_dataset = 'taskonomy_5000'\n",
    "results_path = './../results/DDScomparison_taskonomy/' + image_dataset\n",
    "\n",
    "list_of_tasks = 'autoencoder curvature denoise edge2d edge3d \\\n",
    "keypoint2d keypoint3d colorization \\\n",
    "reshade rgb2depth rgb2mist rgb2sfnorm \\\n",
    "room_layout segment25d segment2d vanishing_point \\\n",
    "segmentsemantic class_1000 class_places inpainting_whole'\n",
    "\n",
    "task_list = 'autoencoder curvature denoise edge2d edge3d \\\n",
    "keypoint2d keypoint3d  \\\n",
    "reshade rgb2depth rgb2mist rgb2sfnorm \\\n",
    "room_layout segment25d segment2d vanishing_point_well_defined \\\n",
    "segmentsemantic_rb class_1000'\n",
    "\n",
    "task_list_refined = 'autoencoder curvature denoise edge2d edge3d \\\n",
    "keypoint2d keypoint3d  \\\n",
    "reshade rgb2depth rgb2mist rgb2sfnorm \\\n",
    "room_layout segment25d segment2d vanishing_point \\\n",
    "semantic_seg class_1000'\n",
    "\n",
    "task_list = task_list.split()\n",
    "task_list_refined = task_list_refined.split()\n",
    "\n"
   ]
  },
  {
   "cell_type": "code",
   "execution_count": 20,
   "metadata": {},
   "outputs": [],
   "source": [
    "#Load affinity matrix\n",
    "with open('./../affinities/all_affinities.pkl', 'rb') as f:\n",
    "    data = pickle.load(f)\n",
    "    \n",
    "t_affinity_matrix = np.zeros((len(task_list),len(task_list)))\n",
    "for i,task1 in enumerate(task_list):\n",
    "    for j,task2 in enumerate(task_list):\n",
    "        t_affinity_matrix[i,j] = data[task1+\"__\"+task2]\n",
    "\n",
    "#Load winrate matrix\n",
    "with open('./../affinities/wins_vs_pixels_16k.pkl', 'rb') as f:\n",
    "    data = pickle.load(f)\n",
    "    \n",
    "t_winrate_matrix = np.zeros((len(task_list),len(task_list)))\n",
    "for i,task1 in enumerate(task_list):\n",
    "    for j,task2 in enumerate(task_list):\n",
    "        t_winrate_matrix[i,j] = data[task1+\"__\"+task2]"
   ]
  },
  {
   "cell_type": "code",
   "execution_count": 21,
   "metadata": {},
   "outputs": [],
   "source": [
    "from scipy.stats import spearmanr,pearsonr\n",
    "\n",
    "kernel_affinities =  np.load(os.path.join(results_path,'kernels.npy'),allow_pickle=True).item()\n",
    "rdm_affinities = np.load(os.path.join(results_path,'rdms.npy'),allow_pickle=True).item()\n",
    "\n",
    "corr_value = {}\n",
    "for kernel,kernel_affinity in kernel_affinities.items():\n",
    "    corr_value[kernel] = {}\n",
    "    for f_ablation,f_ablation_affinity in kernel_affinity.items():\n",
    "        corr_value_matrix = np.zeros(len(task_list))\n",
    "        temp_affinity = np.delete(f_ablation_affinity, (7, 18,19), axis=0)\n",
    "        temp_affinity = np.delete(temp_affinity, (7, 18,19), axis=1)\n",
    "        for j,task in enumerate(task_list):\n",
    "            temp,_ = spearmanr(t_winrate_matrix[:,j], temp_affinity[:,j])\n",
    "            corr_value_matrix[j] = temp\n",
    "        corr_value[kernel][f_ablation] = corr_value_matrix\n",
    "            \n",
    "\n",
    "for rdm,rdm_affinity in rdm_affinities.items():\n",
    "    corr_value[rdm] = {}\n",
    "    for f_ablation,f_ablation_affinity in rdm_affinity.items():\n",
    "        corr_value_matrix = np.zeros(len(task_list))\n",
    "        temp_affinity = np.delete(f_ablation_affinity, (7, 18,19), axis=0)\n",
    "        temp_affinity = np.delete(temp_affinity, (7, 18,19), axis=1)\n",
    "        for j,task in enumerate(task_list):\n",
    "            temp,_ = spearmanr(t_winrate_matrix[:,j], temp_affinity[:,j])\n",
    "            corr_value_matrix[j] =  temp\n",
    "        corr_value[rdm][f_ablation] = corr_value_matrix"
   ]
  },
  {
   "cell_type": "code",
   "execution_count": 22,
   "metadata": {
    "scrolled": true
   },
   "outputs": [
    {
     "name": "stdout",
     "output_type": "stream",
     "text": [
      "Maximum correlation is  0.8381203313797776 ; and using following combination ['cosine', 'znorm']\n"
     ]
    }
   ],
   "source": [
    "max_corr = 0\n",
    "mean_corr = {}\n",
    "for dist,corr_dist in corr_value.items():\n",
    "    mean_corr[dist] = {}\n",
    "    for f_ablation,corr_f_ablation in corr_dist.items():\n",
    "        mean_corr[dist][f_ablation] = round(np.mean(corr_f_ablation),3)\n",
    "        if np.mean(corr_f_ablation) > max_corr:\n",
    "            max_corr = np.mean(corr_f_ablation)\n",
    "            max_combo = [dist,f_ablation]\n",
    "print(\"Maximum correlation is \", max_corr, \"; and using following combination\", max_combo)"
   ]
  },
  {
   "cell_type": "code",
   "execution_count": 23,
   "metadata": {},
   "outputs": [
    {
     "name": "stdout",
     "output_type": "stream",
     "text": [
      "                 rbf    lap  linear  pearson  euclidean  cosine\n",
      "None           0.754  0.766   0.570    0.777      0.628   0.678\n",
      "centering      0.754  0.766   0.570    0.694      0.628   0.682\n",
      "znorm          0.818  0.827   0.820    0.832      0.821   0.838\n",
      "group_norm     0.743  0.767   0.782    0.782      0.764   0.782\n",
      "instance_norm  0.812  0.813   0.833    0.834      0.826   0.834\n",
      "layer_norm     0.738  0.762   0.777    0.777      0.766   0.777\n",
      "batch_norm     0.801  0.817   0.695    0.825      0.771   0.818\n"
     ]
    }
   ],
   "source": [
    "import pandas as pd\n",
    "dfObj = pd.DataFrame(mean_corr)\n",
    "print(dfObj)"
   ]
  },
  {
   "cell_type": "code",
   "execution_count": 24,
   "metadata": {},
   "outputs": [],
   "source": [
    "from scipy.stats import spearmanr,pearsonr\n",
    "\n",
    "corr_value = {}\n",
    "for kernel,kernel_affinity in kernel_affinities.items():\n",
    "    corr_value[kernel] = {}\n",
    "    for f_ablation,f_ablation_affinity in kernel_affinity.items():\n",
    "        corr_value_matrix = np.zeros(len(task_list))\n",
    "        temp_affinity = np.delete(f_ablation_affinity, (7, 18,19), axis=0)\n",
    "        temp_affinity = np.delete(temp_affinity, (7, 18,19), axis=1)\n",
    "        for j,task in enumerate(task_list):\n",
    "            temp,_ = spearmanr(t_affinity_matrix[:,j], temp_affinity[:,j])\n",
    "            corr_value_matrix[j] = temp\n",
    "        corr_value[kernel][f_ablation] = corr_value_matrix\n",
    "            \n",
    "\n",
    "for rdm,rdm_affinity in rdm_affinities.items():\n",
    "    corr_value[rdm] = {}\n",
    "    for f_ablation,f_ablation_affinity in rdm_affinity.items():\n",
    "        corr_value_matrix = np.zeros(len(task_list))\n",
    "        temp_affinity = np.delete(f_ablation_affinity, (7, 18,19), axis=0)\n",
    "        temp_affinity = np.delete(temp_affinity, (7, 18,19), axis=1)\n",
    "        for j,task in enumerate(task_list):\n",
    "            temp,_ = spearmanr(t_affinity_matrix[:,j], temp_affinity[:,j])\n",
    "            corr_value_matrix[j] =  temp\n",
    "        corr_value[rdm][f_ablation] = corr_value_matrix"
   ]
  },
  {
   "cell_type": "code",
   "execution_count": 25,
   "metadata": {},
   "outputs": [
    {
     "name": "stdout",
     "output_type": "stream",
     "text": [
      "Maximum correlation is  0.8620242214532873 ; and using following combination ['cosine', 'znorm']\n"
     ]
    }
   ],
   "source": [
    "max_corr = 0\n",
    "mean_corr = {}\n",
    "for dist,corr_dist in corr_value.items():\n",
    "    mean_corr[dist] = {}\n",
    "    for f_ablation,corr_f_ablation in corr_dist.items():\n",
    "        mean_corr[dist][f_ablation] = round(np.mean(corr_f_ablation),3)\n",
    "        if np.mean(corr_f_ablation) > max_corr:\n",
    "            max_corr = np.mean(corr_f_ablation)\n",
    "            max_combo = [dist,f_ablation]\n",
    "print(\"Maximum correlation is \", max_corr, \"; and using following combination\", max_combo)"
   ]
  },
  {
   "cell_type": "code",
   "execution_count": 27,
   "metadata": {},
   "outputs": [
    {
     "name": "stdout",
     "output_type": "stream",
     "text": [
      "                 rbf    lap  linear  pearson  euclidean  cosine\n",
      "None           0.815  0.819   0.639    0.832      0.694   0.750\n",
      "centering      0.815  0.819   0.639    0.749      0.694   0.740\n",
      "znorm          0.842  0.860   0.839    0.860      0.846   0.862\n",
      "group_norm     0.805  0.821   0.838    0.838      0.825   0.838\n",
      "instance_norm  0.843  0.839   0.851    0.853      0.850   0.853\n",
      "layer_norm     0.799  0.815   0.832    0.832      0.824   0.832\n",
      "batch_norm     0.851  0.854   0.734    0.862      0.811   0.852\n"
     ]
    }
   ],
   "source": [
    "dfObj = pd.DataFrame(mean_corr)\n",
    "print(dfObj)"
   ]
  },
  {
   "cell_type": "code",
   "execution_count": null,
   "metadata": {},
   "outputs": [],
   "source": []
  }
 ],
 "metadata": {
  "kernelspec": {
   "name": "python3",
   "display_name": "Python 3.8.6 64-bit ('pytorch': conda)",
   "metadata": {
    "interpreter": {
     "hash": "2451a1ab20df6cabcbef7f1dfb39005d7bf5ea50486951af55ecf08acd2a5e20"
    }
   }
  },
  "language_info": {
   "codemirror_mode": {
    "name": "ipython",
    "version": 3
   },
   "file_extension": ".py",
   "mimetype": "text/x-python",
   "name": "python",
   "nbconvert_exporter": "python",
   "pygments_lexer": "ipython3",
   "version": "3.8.6-final"
  }
 },
 "nbformat": 4,
 "nbformat_minor": 2
}